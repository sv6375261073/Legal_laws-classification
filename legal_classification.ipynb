{
 "cells": [
  {
   "cell_type": "code",
   "execution_count": 3,
   "metadata": {},
   "outputs": [
    {
     "name": "stderr",
     "output_type": "stream",
     "text": [
      "Using TensorFlow backend.\n"
     ]
    }
   ],
   "source": [
    "import pandas as pd\n",
    "from gensim.utils import simple_preprocess\n",
    "import sklearn\n",
    "import pickle\n",
    "import matplotlib.pyplot as plt\n",
    "import seaborn as sns\n",
    "import numpy as np\n",
    "from keras.preprocessing.text import Tokenizer\n",
    "from keras.preprocessing.sequence import pad_sequences\n",
    "from keras.models import Sequential\n",
    "from keras.layers import Dense,LSTM,Dropout,Embedding,Conv1D,Flatten\n",
    "from sklearn.metrics import confusion_matrix,accuracy_score"
   ]
  },
  {
   "cell_type": "code",
   "execution_count": 4,
   "metadata": {},
   "outputs": [],
   "source": [
    "df = pd.read_csv(\"/home/shiva/Downloads/datasets/WK_1.csv\", compression='gzip')"
   ]
  },
  {
   "cell_type": "code",
   "execution_count": 5,
   "metadata": {
    "scrolled": true
   },
   "outputs": [
    {
     "data": {
      "text/html": [
       "<div>\n",
       "<style scoped>\n",
       "    .dataframe tbody tr th:only-of-type {\n",
       "        vertical-align: middle;\n",
       "    }\n",
       "\n",
       "    .dataframe tbody tr th {\n",
       "        vertical-align: top;\n",
       "    }\n",
       "\n",
       "    .dataframe thead th {\n",
       "        text-align: right;\n",
       "    }\n",
       "</style>\n",
       "<table border=\"1\" class=\"dataframe\">\n",
       "  <thead>\n",
       "    <tr style=\"text-align: right;\">\n",
       "      <th></th>\n",
       "      <th>Unnamed: 0</th>\n",
       "      <th>cleaned_data</th>\n",
       "      <th>Administrative Law</th>\n",
       "      <th>Attorneys Fees</th>\n",
       "      <th>Banking Law</th>\n",
       "      <th>Bankruptcy Law</th>\n",
       "      <th>Civil Procedure</th>\n",
       "      <th>Civil Rights</th>\n",
       "      <th>Class Actions</th>\n",
       "      <th>Commercial Law</th>\n",
       "      <th>...</th>\n",
       "      <th>Immigration Law</th>\n",
       "      <th>Injury &amp; Tort Law</th>\n",
       "      <th>Insurance Law</th>\n",
       "      <th>Intellectual Property</th>\n",
       "      <th>Labor &amp; Employment Law</th>\n",
       "      <th>Property Law &amp; Real Estate</th>\n",
       "      <th>Remedies</th>\n",
       "      <th>Sanctions</th>\n",
       "      <th>Securities Law</th>\n",
       "      <th>Sentencing</th>\n",
       "    </tr>\n",
       "  </thead>\n",
       "  <tbody>\n",
       "    <tr>\n",
       "      <th>0</th>\n",
       "      <td>0</td>\n",
       "      <td>immaterial exception pendency motion suit dist...</td>\n",
       "      <td>0</td>\n",
       "      <td>0</td>\n",
       "      <td>0</td>\n",
       "      <td>0</td>\n",
       "      <td>1</td>\n",
       "      <td>0</td>\n",
       "      <td>1</td>\n",
       "      <td>0</td>\n",
       "      <td>...</td>\n",
       "      <td>0</td>\n",
       "      <td>0</td>\n",
       "      <td>0</td>\n",
       "      <td>0</td>\n",
       "      <td>0</td>\n",
       "      <td>0</td>\n",
       "      <td>0</td>\n",
       "      <td>0</td>\n",
       "      <td>1</td>\n",
       "      <td>0</td>\n",
       "    </tr>\n",
       "    <tr>\n",
       "      <th>1</th>\n",
       "      <td>1</td>\n",
       "      <td>consideration motion opinion case slip opinion...</td>\n",
       "      <td>0</td>\n",
       "      <td>0</td>\n",
       "      <td>0</td>\n",
       "      <td>0</td>\n",
       "      <td>1</td>\n",
       "      <td>0</td>\n",
       "      <td>1</td>\n",
       "      <td>0</td>\n",
       "      <td>...</td>\n",
       "      <td>0</td>\n",
       "      <td>0</td>\n",
       "      <td>0</td>\n",
       "      <td>0</td>\n",
       "      <td>0</td>\n",
       "      <td>0</td>\n",
       "      <td>0</td>\n",
       "      <td>0</td>\n",
       "      <td>1</td>\n",
       "      <td>0</td>\n",
       "    </tr>\n",
       "    <tr>\n",
       "      <th>2</th>\n",
       "      <td>2</td>\n",
       "      <td>consideration motion opinion case slip opinion...</td>\n",
       "      <td>0</td>\n",
       "      <td>0</td>\n",
       "      <td>0</td>\n",
       "      <td>0</td>\n",
       "      <td>1</td>\n",
       "      <td>0</td>\n",
       "      <td>1</td>\n",
       "      <td>0</td>\n",
       "      <td>...</td>\n",
       "      <td>0</td>\n",
       "      <td>0</td>\n",
       "      <td>0</td>\n",
       "      <td>0</td>\n",
       "      <td>0</td>\n",
       "      <td>0</td>\n",
       "      <td>0</td>\n",
       "      <td>0</td>\n",
       "      <td>1</td>\n",
       "      <td>0</td>\n",
       "    </tr>\n",
       "    <tr>\n",
       "      <th>3</th>\n",
       "      <td>3</td>\n",
       "      <td>terms time dismissal labor organization IAWCs ...</td>\n",
       "      <td>0</td>\n",
       "      <td>0</td>\n",
       "      <td>0</td>\n",
       "      <td>0</td>\n",
       "      <td>0</td>\n",
       "      <td>0</td>\n",
       "      <td>0</td>\n",
       "      <td>0</td>\n",
       "      <td>...</td>\n",
       "      <td>0</td>\n",
       "      <td>0</td>\n",
       "      <td>0</td>\n",
       "      <td>0</td>\n",
       "      <td>1</td>\n",
       "      <td>0</td>\n",
       "      <td>0</td>\n",
       "      <td>0</td>\n",
       "      <td>0</td>\n",
       "      <td>0</td>\n",
       "    </tr>\n",
       "    <tr>\n",
       "      <th>4</th>\n",
       "      <td>4</td>\n",
       "      <td>Plaintiffs limited ambulatory surgical center ...</td>\n",
       "      <td>0</td>\n",
       "      <td>0</td>\n",
       "      <td>0</td>\n",
       "      <td>0</td>\n",
       "      <td>1</td>\n",
       "      <td>0</td>\n",
       "      <td>0</td>\n",
       "      <td>0</td>\n",
       "      <td>...</td>\n",
       "      <td>0</td>\n",
       "      <td>0</td>\n",
       "      <td>0</td>\n",
       "      <td>0</td>\n",
       "      <td>0</td>\n",
       "      <td>0</td>\n",
       "      <td>0</td>\n",
       "      <td>0</td>\n",
       "      <td>0</td>\n",
       "      <td>0</td>\n",
       "    </tr>\n",
       "  </tbody>\n",
       "</table>\n",
       "<p>5 rows × 33 columns</p>\n",
       "</div>"
      ],
      "text/plain": [
       "   Unnamed: 0                                       cleaned_data  \\\n",
       "0           0  immaterial exception pendency motion suit dist...   \n",
       "1           1  consideration motion opinion case slip opinion...   \n",
       "2           2  consideration motion opinion case slip opinion...   \n",
       "3           3  terms time dismissal labor organization IAWCs ...   \n",
       "4           4  Plaintiffs limited ambulatory surgical center ...   \n",
       "\n",
       "   Administrative Law  Attorneys Fees  Banking Law  Bankruptcy Law  \\\n",
       "0                   0               0            0               0   \n",
       "1                   0               0            0               0   \n",
       "2                   0               0            0               0   \n",
       "3                   0               0            0               0   \n",
       "4                   0               0            0               0   \n",
       "\n",
       "   Civil Procedure  Civil Rights  Class Actions  Commercial Law  ...  \\\n",
       "0                1             0              1               0  ...   \n",
       "1                1             0              1               0  ...   \n",
       "2                1             0              1               0  ...   \n",
       "3                0             0              0               0  ...   \n",
       "4                1             0              0               0  ...   \n",
       "\n",
       "   Immigration Law  Injury & Tort Law  Insurance Law  Intellectual Property  \\\n",
       "0                0                  0              0                      0   \n",
       "1                0                  0              0                      0   \n",
       "2                0                  0              0                      0   \n",
       "3                0                  0              0                      0   \n",
       "4                0                  0              0                      0   \n",
       "\n",
       "   Labor & Employment Law  Property Law & Real Estate  Remedies  Sanctions  \\\n",
       "0                       0                           0         0          0   \n",
       "1                       0                           0         0          0   \n",
       "2                       0                           0         0          0   \n",
       "3                       1                           0         0          0   \n",
       "4                       0                           0         0          0   \n",
       "\n",
       "   Securities Law  Sentencing  \n",
       "0               1           0  \n",
       "1               1           0  \n",
       "2               1           0  \n",
       "3               0           0  \n",
       "4               0           0  \n",
       "\n",
       "[5 rows x 33 columns]"
      ]
     },
     "execution_count": 5,
     "metadata": {},
     "output_type": "execute_result"
    }
   ],
   "source": [
    "df.head()"
   ]
  },
  {
   "cell_type": "code",
   "execution_count": 6,
   "metadata": {},
   "outputs": [],
   "source": [
    "df['word_len']=df.cleaned_data.apply(lambda x:len(simple_preprocess(x)))"
   ]
  },
  {
   "cell_type": "code",
   "execution_count": 7,
   "metadata": {},
   "outputs": [],
   "source": [
    "# plt.figure(figsize=(100,25))\n",
    "# sns.barplot(x=np.arange(len(df)),y=word_count)"
   ]
  },
  {
   "cell_type": "code",
   "execution_count": 8,
   "metadata": {},
   "outputs": [
    {
     "data": {
      "text/html": [
       "<div>\n",
       "<style scoped>\n",
       "    .dataframe tbody tr th:only-of-type {\n",
       "        vertical-align: middle;\n",
       "    }\n",
       "\n",
       "    .dataframe tbody tr th {\n",
       "        vertical-align: top;\n",
       "    }\n",
       "\n",
       "    .dataframe thead th {\n",
       "        text-align: right;\n",
       "    }\n",
       "</style>\n",
       "<table border=\"1\" class=\"dataframe\">\n",
       "  <thead>\n",
       "    <tr style=\"text-align: right;\">\n",
       "      <th></th>\n",
       "      <th>Unnamed: 0</th>\n",
       "      <th>cleaned_data</th>\n",
       "      <th>Administrative Law</th>\n",
       "      <th>Attorneys Fees</th>\n",
       "      <th>Banking Law</th>\n",
       "      <th>Bankruptcy Law</th>\n",
       "      <th>Civil Procedure</th>\n",
       "      <th>Civil Rights</th>\n",
       "      <th>Class Actions</th>\n",
       "      <th>Commercial Law</th>\n",
       "      <th>...</th>\n",
       "      <th>Injury &amp; Tort Law</th>\n",
       "      <th>Insurance Law</th>\n",
       "      <th>Intellectual Property</th>\n",
       "      <th>Labor &amp; Employment Law</th>\n",
       "      <th>Property Law &amp; Real Estate</th>\n",
       "      <th>Remedies</th>\n",
       "      <th>Sanctions</th>\n",
       "      <th>Securities Law</th>\n",
       "      <th>Sentencing</th>\n",
       "      <th>word_len</th>\n",
       "    </tr>\n",
       "  </thead>\n",
       "  <tbody>\n",
       "    <tr>\n",
       "      <th>0</th>\n",
       "      <td>0</td>\n",
       "      <td>immaterial exception pendency motion suit dist...</td>\n",
       "      <td>0</td>\n",
       "      <td>0</td>\n",
       "      <td>0</td>\n",
       "      <td>0</td>\n",
       "      <td>1</td>\n",
       "      <td>0</td>\n",
       "      <td>1</td>\n",
       "      <td>0</td>\n",
       "      <td>...</td>\n",
       "      <td>0</td>\n",
       "      <td>0</td>\n",
       "      <td>0</td>\n",
       "      <td>0</td>\n",
       "      <td>0</td>\n",
       "      <td>0</td>\n",
       "      <td>0</td>\n",
       "      <td>1</td>\n",
       "      <td>0</td>\n",
       "      <td>614</td>\n",
       "    </tr>\n",
       "    <tr>\n",
       "      <th>3</th>\n",
       "      <td>3</td>\n",
       "      <td>terms time dismissal labor organization IAWCs ...</td>\n",
       "      <td>0</td>\n",
       "      <td>0</td>\n",
       "      <td>0</td>\n",
       "      <td>0</td>\n",
       "      <td>0</td>\n",
       "      <td>0</td>\n",
       "      <td>0</td>\n",
       "      <td>0</td>\n",
       "      <td>...</td>\n",
       "      <td>0</td>\n",
       "      <td>0</td>\n",
       "      <td>0</td>\n",
       "      <td>1</td>\n",
       "      <td>0</td>\n",
       "      <td>0</td>\n",
       "      <td>0</td>\n",
       "      <td>0</td>\n",
       "      <td>0</td>\n",
       "      <td>629</td>\n",
       "    </tr>\n",
       "  </tbody>\n",
       "</table>\n",
       "<p>2 rows × 34 columns</p>\n",
       "</div>"
      ],
      "text/plain": [
       "   Unnamed: 0                                       cleaned_data  \\\n",
       "0           0  immaterial exception pendency motion suit dist...   \n",
       "3           3  terms time dismissal labor organization IAWCs ...   \n",
       "\n",
       "   Administrative Law  Attorneys Fees  Banking Law  Bankruptcy Law  \\\n",
       "0                   0               0            0               0   \n",
       "3                   0               0            0               0   \n",
       "\n",
       "   Civil Procedure  Civil Rights  Class Actions  Commercial Law  ...  \\\n",
       "0                1             0              1               0  ...   \n",
       "3                0             0              0               0  ...   \n",
       "\n",
       "   Injury & Tort Law  Insurance Law  Intellectual Property  \\\n",
       "0                  0              0                      0   \n",
       "3                  0              0                      0   \n",
       "\n",
       "   Labor & Employment Law  Property Law & Real Estate  Remedies  Sanctions  \\\n",
       "0                       0                           0         0          0   \n",
       "3                       1                           0         0          0   \n",
       "\n",
       "   Securities Law  Sentencing  word_len  \n",
       "0               1           0       614  \n",
       "3               0           0       629  \n",
       "\n",
       "[2 rows x 34 columns]"
      ]
     },
     "execution_count": 8,
     "metadata": {},
     "output_type": "execute_result"
    }
   ],
   "source": [
    "data=df.loc[df.word_len>=50]\n",
    "data.head(2)"
   ]
  },
  {
   "cell_type": "code",
   "execution_count": 9,
   "metadata": {},
   "outputs": [
    {
     "name": "stderr",
     "output_type": "stream",
     "text": [
      "/home/shiva/python_projects_directory/python_projects_env/lib/python3.5/site-packages/pandas/core/generic.py:5096: SettingWithCopyWarning: \n",
      "A value is trying to be set on a copy of a slice from a DataFrame.\n",
      "Try using .loc[row_indexer,col_indexer] = value instead\n",
      "\n",
      "See the caveats in the documentation: http://pandas.pydata.org/pandas-docs/stable/indexing.html#indexing-view-versus-copy\n",
      "  self[name] = value\n"
     ]
    }
   ],
   "source": [
    "data.cleaned_data=data.cleaned_data.apply(lambda x:x.lower())"
   ]
  },
  {
   "cell_type": "code",
   "execution_count": 10,
   "metadata": {},
   "outputs": [
    {
     "data": {
      "text/plain": [
       "5755"
      ]
     },
     "execution_count": 10,
     "metadata": {},
     "output_type": "execute_result"
    }
   ],
   "source": [
    "labels=[[j for j in data.iloc[i,2:-1].values] for i in range(len(data))]\n",
    "labels=np.array(labels)\n",
    "len(labels)"
   ]
  },
  {
   "cell_type": "code",
   "execution_count": 11,
   "metadata": {
    "scrolled": true
   },
   "outputs": [
    {
     "name": "stdout",
     "output_type": "stream",
     "text": [
      "31121\n"
     ]
    }
   ],
   "source": [
    "vect=Tokenizer()\n",
    "vect.fit_on_texts(data['cleaned_data'])\n",
    "vocab_size = len(vect.word_index)+1\n",
    "print(vocab_size)\n",
    "encoded_docs_train = vect.texts_to_sequences(data['cleaned_data'])\n",
    "max_length = vocab_size\n",
    "padded_docs_train = pad_sequences(encoded_docs_train, maxlen=200, padding='post')\n",
    "# padded_docs_train1=padded_docs_train.reshape((5755,1,200))"
   ]
  },
  {
   "cell_type": "code",
   "execution_count": 12,
   "metadata": {},
   "outputs": [],
   "source": [
    "# n_classes=len(labels[0])\n",
    "# model = Sequential()\n",
    "# model.add(Conv1D(128,1,input_shape=(1,200)))  \n",
    "# # Adding a dropout layer\n",
    "# model.add(Dropout(0.2))\n",
    "# model.add(Conv1D(64,1))\n",
    "# model.add(Dropout(0.2))\n",
    "# model.add(Flatten())\n",
    "# # Adding a dense output layer with sigmoid activation\n",
    "# model.add(Dense(n_classes, activation='softmax'))\n",
    "# model.summary()"
   ]
  },
  {
   "cell_type": "code",
   "execution_count": 13,
   "metadata": {
    "scrolled": true
   },
   "outputs": [
    {
     "name": "stdout",
     "output_type": "stream",
     "text": [
      "Model: \"sequential_1\"\n",
      "_________________________________________________________________\n",
      "Layer (type)                 Output Shape              Param #   \n",
      "=================================================================\n",
      "embedding_1 (Embedding)      (None, 200, 128)          3983488   \n",
      "_________________________________________________________________\n",
      "lstm_1 (LSTM)                (None, 200, 128)          131584    \n",
      "_________________________________________________________________\n",
      "dropout_1 (Dropout)          (None, 200, 128)          0         \n",
      "_________________________________________________________________\n",
      "lstm_2 (LSTM)                (None, 64)                49408     \n",
      "_________________________________________________________________\n",
      "dropout_2 (Dropout)          (None, 64)                0         \n",
      "_________________________________________________________________\n",
      "dense_1 (Dense)              (None, 31)                2015      \n",
      "=================================================================\n",
      "Total params: 4,166,495\n",
      "Trainable params: 4,166,495\n",
      "Non-trainable params: 0\n",
      "_________________________________________________________________\n"
     ]
    }
   ],
   "source": [
    "n_classes=len(labels[0])\n",
    "model = Sequential()\n",
    "# Configuring the parameters\n",
    "model.add(Embedding(vocab_size, output_dim=128, input_length=200))\n",
    "model.add(LSTM(128, return_sequences=True))  \n",
    "# Adding a dropout layer\n",
    "model.add(Dropout(0.5))\n",
    "model.add(LSTM(64))\n",
    "model.add(Dropout(0.5))\n",
    "# Adding a dense output layer with sigmoid activation\n",
    "model.add(Dense(n_classes, activation='softmax'))\n",
    "model.summary()"
   ]
  },
  {
   "cell_type": "code",
   "execution_count": 14,
   "metadata": {},
   "outputs": [
    {
     "name": "stderr",
     "output_type": "stream",
     "text": [
      "/home/shiva/python_projects_directory/python_projects_env/lib/python3.5/site-packages/tensorflow_core/python/framework/indexed_slices.py:433: UserWarning: Converting sparse IndexedSlices to a dense Tensor of unknown shape. This may consume a large amount of memory.\n",
      "  \"Converting sparse IndexedSlices to a dense Tensor of unknown shape. \"\n"
     ]
    },
    {
     "name": "stdout",
     "output_type": "stream",
     "text": [
      "Train on 5179 samples, validate on 576 samples\n",
      "Epoch 1/1\n",
      "1184/5179 [=====>........................] - ETA: 43s - loss: 0.2779 - accuracy: 0.9228"
     ]
    },
    {
     "ename": "KeyboardInterrupt",
     "evalue": "",
     "output_type": "error",
     "traceback": [
      "\u001b[0;31m---------------------------------------------------------------------------\u001b[0m",
      "\u001b[0;31mKeyboardInterrupt\u001b[0m                         Traceback (most recent call last)",
      "\u001b[0;32m<ipython-input-14-622490bd48b7>\u001b[0m in \u001b[0;36m<module>\u001b[0;34m\u001b[0m\n\u001b[1;32m      5\u001b[0m                     \u001b[0mbatch_size\u001b[0m\u001b[0;34m=\u001b[0m\u001b[0;36m32\u001b[0m\u001b[0;34m,\u001b[0m\u001b[0;34m\u001b[0m\u001b[0m\n\u001b[1;32m      6\u001b[0m                     \u001b[0mvalidation_split\u001b[0m\u001b[0;34m=\u001b[0m\u001b[0;36m0.1\u001b[0m\u001b[0;34m,\u001b[0m\u001b[0;34m\u001b[0m\u001b[0m\n\u001b[0;32m----> 7\u001b[0;31m                     callbacks=[])\n\u001b[0m",
      "\u001b[0;32m~/python_projects_directory/python_projects_env/lib/python3.5/site-packages/keras/engine/training.py\u001b[0m in \u001b[0;36mfit\u001b[0;34m(self, x, y, batch_size, epochs, verbose, callbacks, validation_split, validation_data, shuffle, class_weight, sample_weight, initial_epoch, steps_per_epoch, validation_steps, validation_freq, max_queue_size, workers, use_multiprocessing, **kwargs)\u001b[0m\n\u001b[1;32m   1237\u001b[0m                                         \u001b[0msteps_per_epoch\u001b[0m\u001b[0;34m=\u001b[0m\u001b[0msteps_per_epoch\u001b[0m\u001b[0;34m,\u001b[0m\u001b[0;34m\u001b[0m\u001b[0m\n\u001b[1;32m   1238\u001b[0m                                         \u001b[0mvalidation_steps\u001b[0m\u001b[0;34m=\u001b[0m\u001b[0mvalidation_steps\u001b[0m\u001b[0;34m,\u001b[0m\u001b[0;34m\u001b[0m\u001b[0m\n\u001b[0;32m-> 1239\u001b[0;31m                                         validation_freq=validation_freq)\n\u001b[0m\u001b[1;32m   1240\u001b[0m \u001b[0;34m\u001b[0m\u001b[0m\n\u001b[1;32m   1241\u001b[0m     def evaluate(self,\n",
      "\u001b[0;32m~/python_projects_directory/python_projects_env/lib/python3.5/site-packages/keras/engine/training_arrays.py\u001b[0m in \u001b[0;36mfit_loop\u001b[0;34m(model, fit_function, fit_inputs, out_labels, batch_size, epochs, verbose, callbacks, val_function, val_inputs, shuffle, initial_epoch, steps_per_epoch, validation_steps, validation_freq)\u001b[0m\n\u001b[1;32m    194\u001b[0m                     \u001b[0mins_batch\u001b[0m\u001b[0;34m[\u001b[0m\u001b[0mi\u001b[0m\u001b[0;34m]\u001b[0m \u001b[0;34m=\u001b[0m \u001b[0mins_batch\u001b[0m\u001b[0;34m[\u001b[0m\u001b[0mi\u001b[0m\u001b[0;34m]\u001b[0m\u001b[0;34m.\u001b[0m\u001b[0mtoarray\u001b[0m\u001b[0;34m(\u001b[0m\u001b[0;34m)\u001b[0m\u001b[0;34m\u001b[0m\u001b[0m\n\u001b[1;32m    195\u001b[0m \u001b[0;34m\u001b[0m\u001b[0m\n\u001b[0;32m--> 196\u001b[0;31m                 \u001b[0mouts\u001b[0m \u001b[0;34m=\u001b[0m \u001b[0mfit_function\u001b[0m\u001b[0;34m(\u001b[0m\u001b[0mins_batch\u001b[0m\u001b[0;34m)\u001b[0m\u001b[0;34m\u001b[0m\u001b[0m\n\u001b[0m\u001b[1;32m    197\u001b[0m                 \u001b[0mouts\u001b[0m \u001b[0;34m=\u001b[0m \u001b[0mto_list\u001b[0m\u001b[0;34m(\u001b[0m\u001b[0mouts\u001b[0m\u001b[0;34m)\u001b[0m\u001b[0;34m\u001b[0m\u001b[0m\n\u001b[1;32m    198\u001b[0m                 \u001b[0;32mfor\u001b[0m \u001b[0ml\u001b[0m\u001b[0;34m,\u001b[0m \u001b[0mo\u001b[0m \u001b[0;32min\u001b[0m \u001b[0mzip\u001b[0m\u001b[0;34m(\u001b[0m\u001b[0mout_labels\u001b[0m\u001b[0;34m,\u001b[0m \u001b[0mouts\u001b[0m\u001b[0;34m)\u001b[0m\u001b[0;34m:\u001b[0m\u001b[0;34m\u001b[0m\u001b[0m\n",
      "\u001b[0;32m~/python_projects_directory/python_projects_env/lib/python3.5/site-packages/tensorflow_core/python/keras/backend.py\u001b[0m in \u001b[0;36m__call__\u001b[0;34m(self, inputs)\u001b[0m\n\u001b[1;32m   3725\u001b[0m         \u001b[0mvalue\u001b[0m \u001b[0;34m=\u001b[0m \u001b[0mmath_ops\u001b[0m\u001b[0;34m.\u001b[0m\u001b[0mcast\u001b[0m\u001b[0;34m(\u001b[0m\u001b[0mvalue\u001b[0m\u001b[0;34m,\u001b[0m \u001b[0mtensor\u001b[0m\u001b[0;34m.\u001b[0m\u001b[0mdtype\u001b[0m\u001b[0;34m)\u001b[0m\u001b[0;34m\u001b[0m\u001b[0m\n\u001b[1;32m   3726\u001b[0m       \u001b[0mconverted_inputs\u001b[0m\u001b[0;34m.\u001b[0m\u001b[0mappend\u001b[0m\u001b[0;34m(\u001b[0m\u001b[0mvalue\u001b[0m\u001b[0;34m)\u001b[0m\u001b[0;34m\u001b[0m\u001b[0m\n\u001b[0;32m-> 3727\u001b[0;31m     \u001b[0moutputs\u001b[0m \u001b[0;34m=\u001b[0m \u001b[0mself\u001b[0m\u001b[0;34m.\u001b[0m\u001b[0m_graph_fn\u001b[0m\u001b[0;34m(\u001b[0m\u001b[0;34m*\u001b[0m\u001b[0mconverted_inputs\u001b[0m\u001b[0;34m)\u001b[0m\u001b[0;34m\u001b[0m\u001b[0m\n\u001b[0m\u001b[1;32m   3728\u001b[0m \u001b[0;34m\u001b[0m\u001b[0m\n\u001b[1;32m   3729\u001b[0m     \u001b[0;31m# EagerTensor.numpy() will often make a copy to ensure memory safety.\u001b[0m\u001b[0;34m\u001b[0m\u001b[0;34m\u001b[0m\u001b[0m\n",
      "\u001b[0;32m~/python_projects_directory/python_projects_env/lib/python3.5/site-packages/tensorflow_core/python/eager/function.py\u001b[0m in \u001b[0;36m__call__\u001b[0;34m(self, *args, **kwargs)\u001b[0m\n\u001b[1;32m   1549\u001b[0m       \u001b[0mTypeError\u001b[0m\u001b[0;34m:\u001b[0m \u001b[0mFor\u001b[0m \u001b[0minvalid\u001b[0m \u001b[0mpositional\u001b[0m\u001b[0;34m/\u001b[0m\u001b[0mkeyword\u001b[0m \u001b[0margument\u001b[0m \u001b[0mcombinations\u001b[0m\u001b[0;34m.\u001b[0m\u001b[0;34m\u001b[0m\u001b[0m\n\u001b[1;32m   1550\u001b[0m     \"\"\"\n\u001b[0;32m-> 1551\u001b[0;31m     \u001b[0;32mreturn\u001b[0m \u001b[0mself\u001b[0m\u001b[0;34m.\u001b[0m\u001b[0m_call_impl\u001b[0m\u001b[0;34m(\u001b[0m\u001b[0margs\u001b[0m\u001b[0;34m,\u001b[0m \u001b[0mkwargs\u001b[0m\u001b[0;34m)\u001b[0m\u001b[0;34m\u001b[0m\u001b[0m\n\u001b[0m\u001b[1;32m   1552\u001b[0m \u001b[0;34m\u001b[0m\u001b[0m\n\u001b[1;32m   1553\u001b[0m   \u001b[0;32mdef\u001b[0m \u001b[0m_call_impl\u001b[0m\u001b[0;34m(\u001b[0m\u001b[0mself\u001b[0m\u001b[0;34m,\u001b[0m \u001b[0margs\u001b[0m\u001b[0;34m,\u001b[0m \u001b[0mkwargs\u001b[0m\u001b[0;34m,\u001b[0m \u001b[0mcancellation_manager\u001b[0m\u001b[0;34m=\u001b[0m\u001b[0;32mNone\u001b[0m\u001b[0;34m)\u001b[0m\u001b[0;34m:\u001b[0m\u001b[0;34m\u001b[0m\u001b[0m\n",
      "\u001b[0;32m~/python_projects_directory/python_projects_env/lib/python3.5/site-packages/tensorflow_core/python/eager/function.py\u001b[0m in \u001b[0;36m_call_impl\u001b[0;34m(self, args, kwargs, cancellation_manager)\u001b[0m\n\u001b[1;32m   1589\u001b[0m       raise TypeError(\"Keyword arguments {} unknown. Expected {}.\".format(\n\u001b[1;32m   1590\u001b[0m           list(kwargs.keys()), list(self._arg_keywords)))\n\u001b[0;32m-> 1591\u001b[0;31m     \u001b[0;32mreturn\u001b[0m \u001b[0mself\u001b[0m\u001b[0;34m.\u001b[0m\u001b[0m_call_flat\u001b[0m\u001b[0;34m(\u001b[0m\u001b[0margs\u001b[0m\u001b[0;34m,\u001b[0m \u001b[0mself\u001b[0m\u001b[0;34m.\u001b[0m\u001b[0mcaptured_inputs\u001b[0m\u001b[0;34m,\u001b[0m \u001b[0mcancellation_manager\u001b[0m\u001b[0;34m)\u001b[0m\u001b[0;34m\u001b[0m\u001b[0m\n\u001b[0m\u001b[1;32m   1592\u001b[0m \u001b[0;34m\u001b[0m\u001b[0m\n\u001b[1;32m   1593\u001b[0m   \u001b[0;32mdef\u001b[0m \u001b[0m_filtered_call\u001b[0m\u001b[0;34m(\u001b[0m\u001b[0mself\u001b[0m\u001b[0;34m,\u001b[0m \u001b[0margs\u001b[0m\u001b[0;34m,\u001b[0m \u001b[0mkwargs\u001b[0m\u001b[0;34m)\u001b[0m\u001b[0;34m:\u001b[0m\u001b[0;34m\u001b[0m\u001b[0m\n",
      "\u001b[0;32m~/python_projects_directory/python_projects_env/lib/python3.5/site-packages/tensorflow_core/python/eager/function.py\u001b[0m in \u001b[0;36m_call_flat\u001b[0;34m(self, args, captured_inputs, cancellation_manager)\u001b[0m\n\u001b[1;32m   1690\u001b[0m       \u001b[0;31m# No tape is watching; skip to running the function.\u001b[0m\u001b[0;34m\u001b[0m\u001b[0;34m\u001b[0m\u001b[0m\n\u001b[1;32m   1691\u001b[0m       return self._build_call_outputs(self._inference_function.call(\n\u001b[0;32m-> 1692\u001b[0;31m           ctx, args, cancellation_manager=cancellation_manager))\n\u001b[0m\u001b[1;32m   1693\u001b[0m     forward_backward = self._select_forward_and_backward_functions(\n\u001b[1;32m   1694\u001b[0m         \u001b[0margs\u001b[0m\u001b[0;34m,\u001b[0m\u001b[0;34m\u001b[0m\u001b[0m\n",
      "\u001b[0;32m~/python_projects_directory/python_projects_env/lib/python3.5/site-packages/tensorflow_core/python/eager/function.py\u001b[0m in \u001b[0;36mcall\u001b[0;34m(self, ctx, args, cancellation_manager)\u001b[0m\n\u001b[1;32m    543\u001b[0m               \u001b[0minputs\u001b[0m\u001b[0;34m=\u001b[0m\u001b[0margs\u001b[0m\u001b[0;34m,\u001b[0m\u001b[0;34m\u001b[0m\u001b[0m\n\u001b[1;32m    544\u001b[0m               \u001b[0mattrs\u001b[0m\u001b[0;34m=\u001b[0m\u001b[0;34m(\u001b[0m\u001b[0;34m\"executor_type\"\u001b[0m\u001b[0;34m,\u001b[0m \u001b[0mexecutor_type\u001b[0m\u001b[0;34m,\u001b[0m \u001b[0;34m\"config_proto\"\u001b[0m\u001b[0;34m,\u001b[0m \u001b[0mconfig\u001b[0m\u001b[0;34m)\u001b[0m\u001b[0;34m,\u001b[0m\u001b[0;34m\u001b[0m\u001b[0m\n\u001b[0;32m--> 545\u001b[0;31m               ctx=ctx)\n\u001b[0m\u001b[1;32m    546\u001b[0m         \u001b[0;32melse\u001b[0m\u001b[0;34m:\u001b[0m\u001b[0;34m\u001b[0m\u001b[0m\n\u001b[1;32m    547\u001b[0m           outputs = execute.execute_with_cancellation(\n",
      "\u001b[0;32m~/python_projects_directory/python_projects_env/lib/python3.5/site-packages/tensorflow_core/python/eager/execute.py\u001b[0m in \u001b[0;36mquick_execute\u001b[0;34m(op_name, num_outputs, inputs, attrs, ctx, name)\u001b[0m\n\u001b[1;32m     59\u001b[0m     tensors = pywrap_tensorflow.TFE_Py_Execute(ctx._handle, device_name,\n\u001b[1;32m     60\u001b[0m                                                \u001b[0mop_name\u001b[0m\u001b[0;34m,\u001b[0m \u001b[0minputs\u001b[0m\u001b[0;34m,\u001b[0m \u001b[0mattrs\u001b[0m\u001b[0;34m,\u001b[0m\u001b[0;34m\u001b[0m\u001b[0m\n\u001b[0;32m---> 61\u001b[0;31m                                                num_outputs)\n\u001b[0m\u001b[1;32m     62\u001b[0m   \u001b[0;32mexcept\u001b[0m \u001b[0mcore\u001b[0m\u001b[0;34m.\u001b[0m\u001b[0m_NotOkStatusException\u001b[0m \u001b[0;32mas\u001b[0m \u001b[0me\u001b[0m\u001b[0;34m:\u001b[0m\u001b[0;34m\u001b[0m\u001b[0m\n\u001b[1;32m     63\u001b[0m     \u001b[0;32mif\u001b[0m \u001b[0mname\u001b[0m \u001b[0;32mis\u001b[0m \u001b[0;32mnot\u001b[0m \u001b[0;32mNone\u001b[0m\u001b[0;34m:\u001b[0m\u001b[0;34m\u001b[0m\u001b[0m\n",
      "\u001b[0;31mKeyboardInterrupt\u001b[0m: "
     ]
    }
   ],
   "source": [
    "model.compile(optimizer='adam', loss='binary_crossentropy',metrics=['accuracy'])\n",
    "history = model.fit(padded_docs_train, labels,\n",
    "                    class_weight='balanced',\n",
    "                    epochs=1,\n",
    "                    batch_size=32,\n",
    "                    validation_split=0.1,\n",
    "                    callbacks=[])"
   ]
  },
  {
   "cell_type": "code",
   "execution_count": 116,
   "metadata": {},
   "outputs": [
    {
     "name": "stdout",
     "output_type": "stream",
     "text": [
      "TV operators contracts gross revenues service parties cable modem franchised cable phrase quotations modem analog signals service issue digital common usage phrase cable broadband Internet service cable television signals cable modem service telecommunication Internet cable operators payments cable modem services franchise fees cable operator respect cable system percent cable operators gross revenues period operation cable system cable services cable modem service programming reasoning cable operators role Internet service gross revenues period operation cable system cable services emphasis fee revenues TV service statutory cap cities fees gross revenue services income allowable revenue base FCCs understanding difference services operators parties cable services programming services cable modem service consequences definition products statutes domain governments unlimited fees tax statutes revenue uses cable cable operators statute city franchise fee respect cable system total payments respect system programming revenue city payments cable operators payments suit declaratory judgment operators contracts proceeding federal court Citys action federal law demand payment limitation subsection b cable terms franchise franchise fee meaning litigation district court Citys motion federal adjudication appropriate complaint provisions FCCs district judge statutes cable operators payments franchise contracts account cable modem service aspect disposition suit federal law state court venerable complaint doctrine case plaintiffs statement claim bill anticipation defenses federal defense jurisdiction claim law ordinance home rule power contracts basis complaint federal defense removal face strong criticism General position complaint doctrine federal defense contested decisions point railroad tort claim exchange lifetime pass federal statute interim provision free transportation pass holder federal court issue resolution statute plaintiffs pass free value tort issues case correct railroad passs validity matter contract merits contract claim federal law contested issue obligation federal statute position state tax collector state court contract bank tax obligations acquisition bank federal court promise tax shares bank federal law states levy contested issue litigation federal statute claim contract state tax law potential federal defense suit federal law possible gap proceedings contracts cable payments subject limits federal law claim federal law obvious option parties source law claim language federal issue contract matter complaint source claim parties arbitration means disputes interstate transactions state interference agreements extent general law contract agreement detailed criteria awards arbitration agreements federal statute arbitrability award terms federal jurisdiction claim contract state law transactions claim financial demand state law state law contract cap payments federal floor cities federal support fee telecom services federal support arbitration master complaint reliance entitlement state law federal law field impossible claim state law complete preemption doctrine unavailing misleading doctrine unrelated preemption occupation field labor relations pension law Section federal law claim state regulation national banks interest charges claim federal law state law questions regulation cable TV franchises Section state law power field example fees provision federal telecommunications law municipality state controls conduct authority source federal statute state law removal district litigation state court\n",
      "(1, 200)\n"
     ]
    }
   ],
   "source": [
    "test = vect.texts_to_sequences([input().lower()])\n",
    "test = pad_sequences(test, maxlen=200, padding='post')\n",
    "print(test.shape)\n",
    "pred=model.predict(test)"
   ]
  },
  {
   "cell_type": "code",
   "execution_count": 27,
   "metadata": {
    "collapsed": true
   },
   "outputs": [
    {
     "data": {
      "text/plain": [
       "'TV operators contracts gross revenues service parties cable modem franchised cable phrase quotations modem analog signals service issue digital common usage phrase cable broadband Internet service cable television signals cable modem service telecommunication Internet cable operators payments cable modem services franchise fees cable operator respect cable system percent cable operators gross revenues period operation cable system cable services cable modem service programming reasoning cable operators role Internet service gross revenues period operation cable system cable services emphasis fee revenues TV service statutory cap cities fees gross revenue services income allowable revenue base FCCs understanding difference services operators parties cable services programming services cable modem service consequences definition products statutes domain governments unlimited fees tax statutes revenue uses cable cable operators statute city franchise fee respect cable system total payments respect system programming revenue city payments cable operators payments suit declaratory judgment operators contracts proceeding federal court Citys action federal law demand payment limitation subsection b cable terms franchise franchise fee meaning litigation district court Citys motion federal adjudication appropriate complaint provisions FCCs district judge statutes cable operators payments franchise contracts account cable modem service aspect disposition suit federal law state court venerable complaint doctrine case plaintiffs statement claim bill anticipation defenses federal defense jurisdiction claim law ordinance home rule power contracts basis complaint federal defense removal face strong criticism General position complaint doctrine federal defense contested decisions point railroad tort claim exchange lifetime pass federal statute interim provision free transportation pass holder federal court issue resolution statute plaintiffs pass free value tort issues case correct railroad passs validity matter contract merits contract claim federal law contested issue obligation federal statute position state tax collector state court contract bank tax obligations acquisition bank federal court promise tax shares bank federal law states levy contested issue litigation federal statute claim contract state tax law potential federal defense suit federal law possible gap proceedings contracts cable payments subject limits federal law claim federal law obvious option parties source law claim language federal issue contract matter complaint source claim parties arbitration means disputes interstate transactions state interference agreements extent general law contract agreement detailed criteria awards arbitration agreements federal statute arbitrability award terms federal jurisdiction claim contract state law transactions claim financial demand state law state law contract cap payments federal floor cities federal support fee telecom services federal support arbitration master complaint reliance entitlement state law federal law field impossible claim state law complete preemption doctrine unavailing misleading doctrine unrelated preemption occupation field labor relations pension law Section federal law claim state regulation national banks interest charges claim federal law state law questions regulation cable TV franchises Section state law power field example fees provision federal telecommunications law municipality state controls conduct authority source federal statute state law removal district litigation state court'"
      ]
     },
     "execution_count": 27,
     "metadata": {},
     "output_type": "execute_result"
    }
   ],
   "source": [
    "df.cleaned_data[3456]"
   ]
  },
  {
   "cell_type": "code",
   "execution_count": 117,
   "metadata": {},
   "outputs": [
    {
     "data": {
      "text/plain": [
       "array([0.02470733, 0.03135265, 0.02907716, 0.0418697 , 0.06844533,\n",
       "       0.03602467, 0.04274934, 0.03745964, 0.02363819, 0.02315982,\n",
       "       0.10841313, 0.02355727, 0.01005258, 0.02828099, 0.03660313,\n",
       "       0.03005597, 0.01226931, 0.02096683, 0.0251615 , 0.01315554,\n",
       "       0.037026  , 0.01540057, 0.03637374, 0.04926513, 0.02020056,\n",
       "       0.06953914, 0.02361884, 0.02012124, 0.02330609, 0.02850833,\n",
       "       0.00964023], dtype=float32)"
      ]
     },
     "execution_count": 117,
     "metadata": {},
     "output_type": "execute_result"
    }
   ],
   "source": [
    "pred.ravel()"
   ]
  },
  {
   "cell_type": "code",
   "execution_count": 118,
   "metadata": {},
   "outputs": [],
   "source": [
    "def sigmoid(scores):\n",
    "    scores = np.negative(scores)\n",
    "    exp = np.exp(scores)\n",
    "    scores = 1 / (1 + exp)\n",
    "    scores=[1 if i>0.51 else 0 for i in scores.ravel()]\n",
    "    return scores\n",
    "result=sigmoid(pred)"
   ]
  },
  {
   "cell_type": "code",
   "execution_count": 119,
   "metadata": {},
   "outputs": [
    {
     "name": "stdout",
     "output_type": "stream",
     "text": [
      "0    0\n",
      "0    0\n",
      "0    0\n",
      "1    0\n",
      "1    0\n",
      "0    0\n",
      "1    0\n",
      "0    0\n",
      "0    1\n",
      "0    0\n",
      "1    0\n",
      "0    0\n",
      "0    0\n",
      "0    0\n",
      "0    0\n",
      "0    0\n",
      "0    0\n",
      "0    0\n",
      "0    0\n",
      "0    0\n",
      "0    0\n",
      "0    0\n",
      "0    0\n",
      "1    0\n",
      "0    0\n",
      "1    0\n",
      "0    0\n",
      "0    0\n",
      "0    0\n",
      "0    0\n",
      "0    0\n"
     ]
    }
   ],
   "source": [
    "for i,j in zip(result,labels[3456]):\n",
    "    print(i,'  ',j)"
   ]
  },
  {
   "cell_type": "code",
   "execution_count": null,
   "metadata": {},
   "outputs": [],
   "source": []
  },
  {
   "cell_type": "code",
   "execution_count": null,
   "metadata": {},
   "outputs": [],
   "source": []
  },
  {
   "cell_type": "code",
   "execution_count": 52,
   "metadata": {},
   "outputs": [],
   "source": [
    "categories={'cat'+str(i):cat for i,cat in enumerate(list(data.head(0))[2:-1])}"
   ]
  },
  {
   "cell_type": "markdown",
   "metadata": {},
   "source": [
    "# ml algos for multilabel"
   ]
  },
  {
   "cell_type": "code",
   "execution_count": 36,
   "metadata": {},
   "outputs": [
    {
     "name": "stdout",
     "output_type": "stream",
     "text": [
      "Random forest Accuracy: 0.3840139009556907\n"
     ]
    }
   ],
   "source": [
    "# using binary relevance\n",
    "from sklearn.pipeline import make_pipeline \n",
    "from sklearn.feature_extraction.text import TfidfVectorizer\n",
    "from sklearn.model_selection import train_test_split\n",
    "from imblearn.under_sampling import RandomUnderSampler\n",
    "from skmultilearn.problem_transform import BinaryRelevance\n",
    "from sklearn.ensemble import RandomForestClassifier\n",
    "xtrain,xtest,ytrain,ytest=train_test_split(data.cleaned_data,labels,test_size=0.2,random_state=50)\n",
    "classifier=BinaryRelevance(RandomForestClassifier(min_samples_leaf=1, min_samples_split=6, n_estimators=120, \n",
    "                             criterion='gini', bootstrap='False', n_jobs= -1))\n",
    "pipe = make_pipeline(TfidfVectorizer(ngram_range=(1,2),norm='l2',max_features=500),classifier)\n",
    "pipe.fit(xtrain,ytrain)\n",
    "from imblearn.metrics import  classification_report_imbalanced \n",
    "y_pred = pipe.predict(xtest)\n",
    "# probablity=pipe.predict_proba(X_test_JP)\n",
    "# Model Accuracy\n",
    "print(\"Random forest Accuracy:\", accuracy_score(ytest, y_pred))\n"
   ]
  },
  {
   "cell_type": "code",
   "execution_count": 37,
   "metadata": {},
   "outputs": [],
   "source": [
    "y_pred=y_pred.toarray()\n",
    "from sklearn.metrics import precision_score,recall_score,f1_score\n",
    "label_bin={'cat'+str(j):[labels[cat][j] for cat in range(len(ytest))] for j in range(len(ytest[0]))}\n",
    "pred_bin={'cat'+str(j):[y_pred[cat][j] for cat in range(len(y_pred))] for j in range(len(y_pred[0]))}"
   ]
  },
  {
   "cell_type": "code",
   "execution_count": 43,
   "metadata": {
    "scrolled": false
   },
   "outputs": [
    {
     "name": "stdout",
     "output_type": "stream",
     "text": [
      "                   pre       rec       spe        f1       geo       iba       sup\n",
      "\n",
      "          0       0.96      1.00      0.00      0.98      0.00      0.00      1108\n",
      "          1       0.00      0.00      1.00      0.00      0.00      0.00        43\n",
      "\n",
      "avg / total       0.93      0.96      0.04      0.94      0.00      0.00      1151\n",
      "\n"
     ]
    }
   ],
   "source": [
    "from imblearn.metrics import  classification_report_imbalanced \n",
    "report=classification_report_imbalanced(label_bin['cat7'],pred_bin['cat7'])\n",
    "print(report)"
   ]
  },
  {
   "cell_type": "code",
   "execution_count": 65,
   "metadata": {
    "scrolled": true
   },
   "outputs": [
    {
     "data": {
      "text/plain": [
       "'employer year period order significant debt excessive purchases jewelry debt husband guilty count wire fraud violation sentencing district court motion downward departure applicable sentencing range offense mental capacity district court discretion departure sentence case resentencing chronic depression adult life unnecessary shopping pain depression years psychiatric therapy behaviorﾗwhich doctors compulsive shoppingﾗand depression Roachs shopping binges severe strain marriage behavior binges husband credit card statements friends homes entries checkbook husband credit cards new ones annual income considerable condominium fashionable neighborhoods thousands dollars credit card debt purchases jewelry upscale stores occasion store credit card terrified husband extent debts fraud experienced manager associate partner annual salary expense report reimbursement conference registration fees personal charge card unable conference expense request fees money money opportunity debt debt husband incident years expense reports hundreds incidents expenses district court incidents falsifications different forms expenses instances occasions expense reports reimbursement air fares way occasions reimbursement conferences total occasions expense reports expenses total short occasions reimbursement personal expenses business expenses incidents false reporting separate expense report clear false line items smaller number reports exact clear total fraud years guilty scheme use wire transmission interstate commerce false reports email violation purposes sentencing base offense level crime base fraud levels offense minimal planning adjusted offense level government offense acceptance responsibility criminal history category sentencing range level months range minimum sentence imprisonment use alternatives community confinement home downward departure guidelines range diminished capacity district court motion offense compulsive shopping ability behavior court years probation special conditions probation weeks release months home electronic monitoring new credit cards courts permission court restitution fine special assessment government sentence district courts decision sentence lower guideline abuse discretion review erroneous legal conclusions clear error sentencing courts resolution factual questions decision clear error definite conviction Emotional disorders prescribed sentence policy mental capacity applicable guideline range offense mental capacity extent departure extent reduced mental capacity commission offense policy application note mental capacity cognitive impairments mental capacity ability wrongfulness behavior offense power reason B control wrongful impairment offense Offense government district courts ability shopping depression compulsive shopping crime government district court impairment motive sufficient offense governments volitional impairments compulsive behavior offense motive government connection impairment motive critical questionﾗwhat mental offense opinion view impairment motive insufficient compulsion adult pornography child pornography offense trade child pornography acquisition adult pornography offense possession child pornography related compulsion adult pornography order proceeds adult pornography court pornography means pornography reduced mental capacity offense experts testimony impulse control disorder interest adult pornography disorder child pornography district courts ability offense conduct court departure diminished capacity improper sentence district courts ability offense conduct court departure diminished capacity improper sentence response argument compulsive behavior offense compulsive employer month period merchandise personal credit card district court departure diminished capacity fraud order gambling debts government departure available offense issue illegal direct link impairment guideline impairments behavior crime behavior crime court distinction government arbitrary results cases impairment crime connection offense direct example Governments theory disorder food downward departure person money food downward departure situation link crime money food impairment direct disorder crime Governments theory nebulous distinction volitional impairment conduct crime volitional motive ultimate crime distinction direct causes distinction hypothetical straw man example impairment direct disorder compulsion words example food connection offense example money food connection impairment direct strength connection impairment relevance appropriate sentence motive mental capacity time offense proper inquiry purposes Section inquiry mental capacity offense original mental time offense original definition mental capacity volitional impairments offense conduct ability behavior wrongful offense mental capacity emphasis district court departure finding mental capacity time offense diminished commission offense case behavior issue time offense false expense reports district courts offense shopping disorder departure causation weak causation scheme odd fact incorrect birth parents crime compulsive shopping necessary offense district courts words motive finding mental capacity fraud diminished capacity purposes governments argument shopping compulsion relevant sentencing shoplifting example gambling sentencing illegal gambling disorder motive offense ability conduct impairment episodes judgment time shopping sprees sum section assessment mental capacity time offense assessment district analysis district court words application offense mental capacity ability behavior wrongful clear courts opinion finding ability conduct time offenseﾗthat fraudulent expense reports departure incorrect extent judges finding impaired capacity conduct time offense unsupported evidence district court statements doctors history compulsive shopping binges binges district court able things order compulsion evidence activities shopping groceries checks amounts purchase new credit cards bills friends houses money relatives credit card debt evidence lack control respect lawful activities light mental capacity time fraudulent conduct doctors statements inadequate finding ability conduct time offense opinion subject consistent diagnostic compulsive shopping disorders illegal acts forgery illness debt family statement aspect disorder assessment role time offense experts depression severe mental capacity departure request defense mental capacity shopping binges false expense reports compulsive shopping offense state information legal consequences actions available significant reduction mental capacity time commission offense respect conclusion mental state reasoning district court shopping ways severe depression attempt effects depression activity type alcohol consumption compulsive sexual researchers type behavior persons available level serotonin things extent depression temporary relief persons symptoms activity person dissociative state persons behavior short types concerns people activity recognition financial implications family members simple common contrast explanation reasoning conclusion ability behavior time offense statement apparent inconsistency statements fraud employer expenses conferences money debt husband statements episodic impairment depression years criminal activity analytic leap shopping compulsion impaired ability fraudulent conduct years great reasons naked mental state time offense little expert line value judicial process request government unhelpful able unspecified wrongful behavior impairment significant little way evidence conclusion offense employer attempt behaviorsﾗtends impaired capacity conduct time offense doubt depression profound impact life way countless criminal court walks life wide variety personal characteristics basis leniency sentencing guidelines district courts ability sentence considerations guidelines particular sentencing range case magnitude fraud mindful review district courts decision sentence range deferential convinced court discretion downward departure findings motive critical issue mental capacity time offense issue courts ability behavior Roachs case prior conviction state shoplifting guilty years probation departure circumstances government relevant case voluntary use drugs offense actual violence violence criminal public financial circumstances offense necessary order compulsion credit line fraud argument question governments circumstances personal financial difficulties economic trade decrease sentence similar opinion mental state shopping binges'"
      ]
     },
     "execution_count": 65,
     "metadata": {},
     "output_type": "execute_result"
    }
   ],
   "source": [
    "df.cleaned_data[5000]"
   ]
  },
  {
   "cell_type": "code",
   "execution_count": 66,
   "metadata": {
    "scrolled": true
   },
   "outputs": [
    {
     "name": "stdout",
     "output_type": "stream",
     "text": [
      "employer year period order significant debt excessive purchases jewelry debt husband guilty count wire fraud violation sentencing district court motion downward departure applicable sentencing range offense mental capacity district court discretion departure sentence case resentencing chronic depression adult life unnecessary shopping pain depression years psychiatric therapy behaviorﾗwhich doctors compulsive shoppingﾗand depression Roachs shopping binges severe strain marriage behavior binges husband credit card statements friends homes entries checkbook husband credit cards new ones annual income considerable condominium fashionable neighborhoods thousands dollars credit card debt purchases jewelry upscale stores occasion store credit card terrified husband extent debts fraud experienced manager associate partner annual salary expense report reimbursement conference registration fees personal charge card unable conference expense request fees money money opportunity debt debt husband incident years expense reports hundreds incidents expenses district court incidents falsifications different forms expenses instances occasions expense reports reimbursement air fares way occasions reimbursement conferences total occasions expense reports expenses total short occasions reimbursement personal expenses business expenses incidents false reporting separate expense report clear false line items smaller number reports exact clear total fraud years guilty scheme use wire transmission interstate commerce false reports email violation purposes sentencing base offense level crime base fraud levels offense minimal planning adjusted offense level government offense acceptance responsibility criminal history category sentencing range level months range minimum sentence imprisonment use alternatives community confinement home downward departure guidelines range diminished capacity district court motion offense compulsive shopping ability behavior court years probation special conditions probation weeks release months home electronic monitoring new credit cards courts permission court restitution fine special assessment government sentence district courts decision sentence lower guideline abuse discretion review erroneous legal conclusions clear error sentencing courts resolution factual questions decision clear error definite conviction Emotional disorders prescribed sentence policy mental capacity applicable guideline range offense mental capacity extent departure extent reduced mental capacity commission offense policy application note mental capacity cognitive impairments mental capacity ability wrongfulness behavior offense power reason B control wrongful impairment offense Offense government district courts ability shopping depression compulsive shopping crime government district court impairment motive sufficient offense governments volitional impairments compulsive behavior offense motive government connection impairment motive critical questionﾗwhat mental offense opinion view impairment motive insufficient compulsion adult pornography child pornography offense trade child pornography acquisition adult pornography offense possession child pornography related compulsion adult pornography order proceeds adult pornography court pornography means pornography reduced mental capacity offense experts testimony impulse control disorder interest adult pornography disorder child pornography district courts ability offense conduct court departure diminished capacity improper sentence district courts ability offense conduct court departure diminished capacity improper sentence response argument compulsive behavior offense compulsive employer month period merchandise personal credit card district court departure diminished capacity fraud order gambling debts government departure available offense issue illegal direct link impairment guideline impairments behavior crime behavior crime court distinction government arbitrary results cases impairment crime connection offense direct example Governments theory disorder food downward departure person money food downward departure situation link crime money food impairment direct disorder crime Governments theory nebulous distinction volitional impairment conduct crime volitional motive ultimate crime distinction direct causes distinction hypothetical straw man example impairment direct disorder compulsion words example food connection offense example money food connection impairment direct strength connection impairment relevance appropriate sentence motive mental capacity time offense proper inquiry purposes Section inquiry mental capacity offense original mental time offense original definition mental capacity volitional impairments offense conduct ability behavior wrongful offense mental capacity emphasis district court departure finding mental capacity time offense diminished commission offense case behavior issue time offense false expense reports district courts offense shopping disorder departure causation weak causation scheme odd fact incorrect birth parents crime compulsive shopping necessary offense district courts words motive finding mental capacity fraud diminished capacity purposes governments argument shopping compulsion relevant sentencing shoplifting example gambling sentencing illegal gambling disorder motive offense ability conduct impairment episodes judgment time shopping sprees sum section assessment mental capacity time offense assessment district analysis district court words application offense mental capacity ability behavior wrongful clear courts opinion finding ability conduct time offenseﾗthat fraudulent expense reports departure incorrect extent judges finding impaired capacity conduct time offense unsupported evidence district court statements doctors history compulsive shopping binges binges district court able things order compulsion evidence activities shopping groceries checks amounts purchase new credit cards bills friends houses money relatives credit card debt evidence lack control respect lawful activities light mental capacity time fraudulent conduct doctors statements inadequate finding ability conduct time offense opinion subject consistent diagnostic compulsive shopping disorders illegal acts forgery illness debt family statement aspect disorder assessment role time offense experts depression severe mental capacity departure request defense mental capacity shopping binges false expense reports compulsive shopping offense state information legal consequences actions available significant reduction mental capacity time commission offense respect conclusion mental state reasoning district court shopping ways severe depression attempt effects depression activity type alcohol consumption compulsive sexual researchers type behavior persons available level serotonin things extent depression temporary relief persons symptoms activity person dissociative state persons behavior short types concerns people activity recognition financial implications family members simple common contrast explanation reasoning conclusion ability behavior time offense statement apparent inconsistency statements fraud employer expenses conferences money debt husband statements episodic impairment depression years criminal activity analytic leap shopping compulsion impaired ability fraudulent conduct years great reasons naked mental state time offense little expert line value judicial process request government unhelpful able unspecified wrongful behavior impairment significant little way evidence conclusion offense employer attempt behaviorsﾗtends impaired capacity conduct time offense doubt depression profound impact life way countless criminal court walks life wide variety personal characteristics basis leniency sentencing guidelines district courts ability sentence considerations guidelines particular sentencing range case magnitude fraud mindful review district courts decision sentence range deferential convinced court discretion downward departure findings motive critical issue mental capacity time offense issue courts ability behavior Roachs case prior conviction state shoplifting guilty years probation departure circumstances government relevant case voluntary use drugs offense actual violence violence criminal public financial circumstances offense necessary order compulsion credit line fraud argument question governments circumstances personal financial difficulties economic trade decrease sentence similar opinion mental state shopping binges\n"
     ]
    },
    {
     "name": "stdout",
     "output_type": "stream",
     "text": [
      "0 [0 0 0 0 0 0 0 0 0 0 0 0 1 0 0 0 0 0 0 0 0 0 0 0 0 0 0 0 0 0 1]\n"
     ]
    }
   ],
   "source": [
    "pred=pipe.predict([input()])\n",
    "pred=pred.toarray()\n",
    "for i,j in zip(labels[5000],pred):\n",
    "    print(i,j)"
   ]
  },
  {
   "cell_type": "code",
   "execution_count": 67,
   "metadata": {},
   "outputs": [
    {
     "name": "stdout",
     "output_type": "stream",
     "text": [
      "[0 0 0 0 0 0 0 0 0 0 0 0 0 0 0 0 0 0 0 0 0 0 0 0 0 1 0 0 0 0 0]\n",
      "[[0 0 0 0 0 0 0 0 0 0 0 0 1 0 0 0 0 0 0 0 0 0 0 0 0 0 0 0 0 0 1]]\n"
     ]
    }
   ],
   "source": [
    "print(labels[5000])\n",
    "print(pred)"
   ]
  },
  {
   "cell_type": "code",
   "execution_count": null,
   "metadata": {},
   "outputs": [],
   "source": []
  },
  {
   "cell_type": "code",
   "execution_count": 33,
   "metadata": {},
   "outputs": [
    {
     "ename": "NameError",
     "evalue": "name 'RandomForestClassifier' is not defined",
     "output_type": "error",
     "traceback": [
      "\u001b[0;31m---------------------------------------------------------------------------\u001b[0m",
      "\u001b[0;31mNameError\u001b[0m                                 Traceback (most recent call last)",
      "\u001b[0;32m<ipython-input-33-856b14904227>\u001b[0m in \u001b[0;36m<module>\u001b[0;34m\u001b[0m\n\u001b[1;32m      2\u001b[0m \u001b[0;32mfrom\u001b[0m \u001b[0mskmultilearn\u001b[0m\u001b[0;34m.\u001b[0m\u001b[0mproblem_transform\u001b[0m \u001b[0;32mimport\u001b[0m \u001b[0mClassifierChain\u001b[0m\u001b[0;34m\u001b[0m\u001b[0m\n\u001b[1;32m      3\u001b[0m \u001b[0;34m\u001b[0m\u001b[0m\n\u001b[0;32m----> 4\u001b[0;31m classifier = ClassifierChain(RandomForestClassifier(min_samples_leaf=1, min_samples_split=6, n_estimators=120, \n\u001b[0m\u001b[1;32m      5\u001b[0m                              criterion='gini', bootstrap='False', n_jobs= -1))\n\u001b[1;32m      6\u001b[0m \u001b[0mpipe\u001b[0m \u001b[0;34m=\u001b[0m \u001b[0mmake_pipeline\u001b[0m\u001b[0;34m(\u001b[0m\u001b[0mTfidfVectorizer\u001b[0m\u001b[0;34m(\u001b[0m\u001b[0mngram_range\u001b[0m\u001b[0;34m=\u001b[0m\u001b[0;34m(\u001b[0m\u001b[0;36m1\u001b[0m\u001b[0;34m,\u001b[0m\u001b[0;36m2\u001b[0m\u001b[0;34m)\u001b[0m\u001b[0;34m,\u001b[0m\u001b[0mnorm\u001b[0m\u001b[0;34m=\u001b[0m\u001b[0;34m'l2'\u001b[0m\u001b[0;34m,\u001b[0m\u001b[0mmax_features\u001b[0m\u001b[0;34m=\u001b[0m\u001b[0;36m500\u001b[0m\u001b[0;34m)\u001b[0m\u001b[0;34m,\u001b[0m\u001b[0mclassifier\u001b[0m\u001b[0;34m)\u001b[0m\u001b[0;34m\u001b[0m\u001b[0m\n",
      "\u001b[0;31mNameError\u001b[0m: name 'RandomForestClassifier' is not defined"
     ]
    }
   ],
   "source": [
    "# using classifier chains\n",
    "from skmultilearn.problem_transform import ClassifierChain\n",
    "\n",
    "classifier = ClassifierChain(RandomForestClassifier(min_samples_leaf=1, min_samples_split=6, n_estimators=120, \n",
    "                             criterion='gini', bootstrap='False', n_jobs= -1))\n",
    "pipe = make_pipeline(TfidfVectorizer(ngram_range=(1,2),norm='l2',max_features=500),classifier)\n",
    "pipe.fit(data.cleaned_data,labels)\n",
    "from imblearn.metrics import  classification_report_imbalanced \n",
    "y_pred = pipe.predict(data.cleaned_data)\n",
    "# probablity=pipe.predict_proba(X_test_JP)\n",
    "# Model Accuracy\n",
    "print(\"Random forest Accuracy:\", accuracy_score(labels, y_pred))\n"
   ]
  },
  {
   "cell_type": "code",
   "execution_count": 88,
   "metadata": {},
   "outputs": [
    {
     "name": "stdout",
     "output_type": "stream",
     "text": [
      "Random forest Accuracy: 0.45091225021720244\n"
     ]
    }
   ],
   "source": [
    "# using Label Powerset\n",
    "from skmultilearn.problem_transform import LabelPowerset\n",
    "from sklearn.model_selection import train_test_split\n",
    "xtrain,xtest,ytrain,ytest=train_test_split(data.cleaned_data,labels,test_size=0.2,random_state=50)\n",
    "classifier = LabelPowerset(RandomForestClassifier(min_samples_leaf=1, min_samples_split=6, n_estimators=120, \n",
    "                             criterion='gini', bootstrap='False', n_jobs= -1))\n",
    "pipe = make_pipeline(TfidfVectorizer(ngram_range=(1,2),norm='l2',max_features=500),classifier)\n",
    "pipe.fit(xtrain,ytrain)\n",
    "from imblearn.metrics import  classification_report_imbalanced \n",
    "y_pred = pipe.predict(xtest)\n",
    "# probablity=pipe.predict_proba(X_test_JP)\n",
    "# Model Accuracy\n",
    "print(\"Random forest Accuracy:\", accuracy_score(ytest, y_pred))"
   ]
  },
  {
   "cell_type": "code",
   "execution_count": 78,
   "metadata": {},
   "outputs": [],
   "source": [
    "# import pickle\n",
    "# pickle.dump(pipe,open('legal_model.pkl','wb'))\n",
    "# pipe=pickle.load(open('legal_model.pkl','rb'))"
   ]
  },
  {
   "cell_type": "code",
   "execution_count": 80,
   "metadata": {},
   "outputs": [],
   "source": [
    "y_pred=y_pred.toarray()\n",
    "from sklearn.metrics import precision_score,recall_score,f1_score\n",
    "label_bin={'cat'+str(j):[labels[cat][j] for cat in range(len(ytest))] for j in range(len(ytest[0]))}\n",
    "pred_bin={'cat'+str(j):[y_pred[cat][j] for cat in range(len(y_pred))] for j in range(len(y_pred[0]))}"
   ]
  },
  {
   "cell_type": "code",
   "execution_count": 85,
   "metadata": {},
   "outputs": [],
   "source": [
    "# from imblearn.metrics import  classification_report_imbalanced \n",
    "# classification_report=[classification_report_imbalanced(label_bin['cat'+str(j)],pred_bin['cat'+str(j)]) for j in range(len(labels[0]))]\n",
    "# for i,p in enumerate(classification_report):\n",
    "#     print('-----------------------********************{}******************---------------------------'.format(categories['cat'+str(i)]))\n",
    "#     print(p)\n",
    "    "
   ]
  },
  {
   "cell_type": "code",
   "execution_count": 87,
   "metadata": {},
   "outputs": [
    {
     "data": {
      "text/plain": [
       "'                   pre       rec       spe        f1       geo       iba       sup\\n\\n          0       1.00      1.00      0.95      1.00      0.98      0.96      1064\\n          1       0.98      0.95      1.00      0.97      0.98      0.95        87\\n\\navg / total       0.99      0.99      0.96      0.99      0.98      0.96      1151\\n'"
      ]
     },
     "execution_count": 87,
     "metadata": {},
     "output_type": "execute_result"
    }
   ],
   "source": [
    "classification_report_imbalanced(cat1,pred1)"
   ]
  },
  {
   "cell_type": "code",
   "execution_count": 32,
   "metadata": {},
   "outputs": [
    {
     "name": "stdout",
     "output_type": "stream",
     "text": [
      " Accuracy: 0.3364031277150304\n"
     ]
    }
   ],
   "source": [
    "from skmultilearn.adapt import MLkNN\n",
    "\n",
    "classifier = MLkNN(k=20)\n",
    "pipe = make_pipeline(TfidfVectorizer(ngram_range=(1,2),norm='l2',max_features=500),classifier)\n",
    "pipe.fit(data.cleaned_data,labels)\n",
    "from imblearn.metrics import  classification_report_imbalanced \n",
    "y_pred = pipe.predict(data.cleaned_data)\n",
    "# probablity=pipe.predict_proba(X_test_JP)\n",
    "# Model Accuracy\n",
    "print(\" Accuracy:\", accuracy_score(labels, y_pred))"
   ]
  }
 ],
 "metadata": {
  "kernelspec": {
   "display_name": "Python 3",
   "language": "python",
   "name": "python3"
  },
  "language_info": {
   "codemirror_mode": {
    "name": "ipython",
    "version": 3
   },
   "file_extension": ".py",
   "mimetype": "text/x-python",
   "name": "python",
   "nbconvert_exporter": "python",
   "pygments_lexer": "ipython3",
   "version": "3.5.2"
  }
 },
 "nbformat": 4,
 "nbformat_minor": 4
}
